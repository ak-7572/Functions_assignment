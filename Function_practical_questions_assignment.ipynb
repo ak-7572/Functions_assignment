{
 "cells": [
  {
   "cell_type": "code",
   "execution_count": 10,
   "id": "63e86bdb-dad6-403f-8f75-afdcf13ee809",
   "metadata": {},
   "outputs": [
    {
     "name": "stdout",
     "output_type": "stream",
     "text": [
      "42\n"
     ]
    }
   ],
   "source": [
    "# Q1. . Write a Python function that takes a list of numbers as input and returns the sum of all even numbers in the list.\n",
    "\n",
    "def sum_of_evens(n):\n",
    "    return sum(i for i in n if i % 2 == 0)\n",
    "n = [47, 11, 42, 13]\n",
    "result = sum_of_evens(n)\n",
    "print(result)  \n"
   ]
  },
  {
   "cell_type": "code",
   "execution_count": 16,
   "id": "aea820ed-f322-4510-9a9a-bcd29cae612d",
   "metadata": {},
   "outputs": [
    {
     "data": {
      "text/plain": [
       "'itraa'"
      ]
     },
     "execution_count": 16,
     "metadata": {},
     "output_type": "execute_result"
    }
   ],
   "source": [
    "# Q2. Create a Python function that accepts a string and returns the reverse of that string.\n",
    "\n",
    "a = \"aarti\"\n",
    "a[::-1]"
   ]
  },
  {
   "cell_type": "code",
   "execution_count": 18,
   "id": "ad572e1d-6690-40f1-adad-db52b8f568d4",
   "metadata": {},
   "outputs": [
    {
     "data": {
      "text/plain": [
       "[1, 4, 9, 16, 25, 36]"
      ]
     },
     "execution_count": 18,
     "metadata": {},
     "output_type": "execute_result"
    }
   ],
   "source": [
    "# Q3. Implement a Python function that takes a list of integers and returns a new list containing the squares of each number.\n",
    "\n",
    "list_of_num = [1,2,3,4,5,6]\n",
    "list(map(lambda x: x**2, list_of_num))"
   ]
  },
  {
   "cell_type": "code",
   "execution_count": 1,
   "id": "4ae39e6c-737c-4ea6-a108-9fcf8865e9cc",
   "metadata": {},
   "outputs": [
    {
     "name": "stdout",
     "output_type": "stream",
     "text": [
      "55 is not a prime number.\n"
     ]
    }
   ],
   "source": [
    "# Q4. Write a Python function that checks if a given number is prime or not from 1 to 200.\n",
    "\n",
    "def is_prime(n):\n",
    "    if n <= 1:\n",
    "        return False  \n",
    "    if n <= 3:\n",
    "        return True  \n",
    "    if n % 2 == 0 or n % 3 == 0:\n",
    "        return False \n",
    "    i = 5\n",
    "    while i * i <= n:\n",
    "        if n % i == 0 or n % (i + 2) == 0:\n",
    "            return False\n",
    "        i += 6\n",
    "    return True\n",
    "\n",
    "number = 55\n",
    "if is_prime(number):\n",
    "    print(f\"{number} is a prime number.\")\n",
    "else:\n",
    "    print(f\"{number} is not a prime number.\")"
   ]
  },
  {
   "cell_type": "code",
   "execution_count": 34,
   "id": "7e3d5283-af52-495f-983b-a55fca2fef38",
   "metadata": {},
   "outputs": [],
   "source": [
    "# Q5. Create an iterator class in Python that generates the Fibonacci sequence up to a specified number of terms.\n",
    "\n",
    "\n",
    "def fib(n):\n",
    "    a = 0\n",
    "    b = 1\n",
    "    for i in range(n):\n",
    "        yield a\n",
    "        a, b = b, a+b   "
   ]
  },
  {
   "cell_type": "code",
   "execution_count": 42,
   "id": "415e8686-f219-4b22-95b1-e60e044a7d6f",
   "metadata": {},
   "outputs": [
    {
     "data": {
      "text/plain": [
       "<generator object fib at 0x727949329f50>"
      ]
     },
     "execution_count": 42,
     "metadata": {},
     "output_type": "execute_result"
    }
   ],
   "source": [
    "f = fib(10)\n",
    "f"
   ]
  },
  {
   "cell_type": "code",
   "execution_count": 43,
   "id": "255e4ba7-11d6-46a3-83bc-d6cfc83ab322",
   "metadata": {},
   "outputs": [
    {
     "data": {
      "text/plain": [
       "0"
      ]
     },
     "execution_count": 43,
     "metadata": {},
     "output_type": "execute_result"
    }
   ],
   "source": [
    "next(f)"
   ]
  },
  {
   "cell_type": "code",
   "execution_count": 44,
   "id": "ff4928bb-2164-4fa5-8373-44ab3350cdd6",
   "metadata": {},
   "outputs": [
    {
     "data": {
      "text/plain": [
       "1"
      ]
     },
     "execution_count": 44,
     "metadata": {},
     "output_type": "execute_result"
    }
   ],
   "source": [
    "next(f)"
   ]
  },
  {
   "cell_type": "code",
   "execution_count": 45,
   "id": "69082206-167d-4757-8f32-506ef592b3be",
   "metadata": {},
   "outputs": [
    {
     "data": {
      "text/plain": [
       "1"
      ]
     },
     "execution_count": 45,
     "metadata": {},
     "output_type": "execute_result"
    }
   ],
   "source": [
    "next(f)"
   ]
  },
  {
   "cell_type": "code",
   "execution_count": 46,
   "id": "ad4f1fa1-9599-4797-9d62-d341839087be",
   "metadata": {},
   "outputs": [
    {
     "data": {
      "text/plain": [
       "2"
      ]
     },
     "execution_count": 46,
     "metadata": {},
     "output_type": "execute_result"
    }
   ],
   "source": [
    "next(f)"
   ]
  },
  {
   "cell_type": "code",
   "execution_count": 47,
   "id": "d3500786-422f-4079-905c-20aff4070c79",
   "metadata": {},
   "outputs": [
    {
     "data": {
      "text/plain": [
       "3"
      ]
     },
     "execution_count": 47,
     "metadata": {},
     "output_type": "execute_result"
    }
   ],
   "source": [
    "next(f)"
   ]
  },
  {
   "cell_type": "code",
   "execution_count": 41,
   "id": "f010c1d5-9c61-4cf0-acfc-c4af40e72fce",
   "metadata": {},
   "outputs": [
    {
     "data": {
      "text/plain": [
       "5"
      ]
     },
     "execution_count": 41,
     "metadata": {},
     "output_type": "execute_result"
    }
   ],
   "source": [
    "next(f)"
   ]
  },
  {
   "cell_type": "code",
   "execution_count": 49,
   "id": "92b33f37-af57-4b7b-a18a-376b4976d3e1",
   "metadata": {},
   "outputs": [
    {
     "data": {
      "text/plain": [
       "8"
      ]
     },
     "execution_count": 49,
     "metadata": {},
     "output_type": "execute_result"
    }
   ],
   "source": [
    "next(f)"
   ]
  },
  {
   "cell_type": "code",
   "execution_count": 66,
   "id": "0adcd866-afbb-43e1-85a2-0d2154a82a4a",
   "metadata": {},
   "outputs": [
    {
     "name": "stdout",
     "output_type": "stream",
     "text": [
      "1\n",
      "2\n",
      "4\n",
      "8\n",
      "16\n",
      "32\n"
     ]
    }
   ],
   "source": [
    "# Q6. Write a generator function in Python that yields the powers of 2 up to a given exponent.\n",
    "\n",
    "def powers_of_2(max_exponent):\n",
    "    for exponent in range(max_exponent + 1):\n",
    "        yield 2 ** exponent\n",
    "for power in powers_of_2(5):\n",
    "    print(power)\n"
   ]
  },
  {
   "cell_type": "code",
   "execution_count": 6,
   "id": "34b434b3-bfe1-45fd-bb4d-1dfda4465084",
   "metadata": {},
   "outputs": [],
   "source": [
    "# Q7. Implement a generator function that reads a file line by line and yields each line as a string.\n",
    "\n",
    "\n",
    "def read_file_line_by_line(filename):\n",
    "    with open(filename, 'r') as file:\n",
    "        for line in file:\n",
    "            yield line\n",
    "        print(line, end='')"
   ]
  },
  {
   "cell_type": "code",
   "execution_count": 7,
   "id": "f871101d-0d54-4aac-b481-39f79707ed8e",
   "metadata": {},
   "outputs": [
    {
     "name": "stdout",
     "output_type": "stream",
     "text": [
      "[(2, 1), (3, 2), (1, 3), (4, 5)]\n"
     ]
    }
   ],
   "source": [
    "# Q8. Use a lambda function in Python to sort a list of tuples based on the second element of each tuple.\n",
    "\n",
    "\n",
    "data = [(1, 3), (2, 1), (3, 2), (4, 5)]\n",
    "sorted_data = sorted(data, key=lambda x: x[1])\n",
    "\n",
    "print(sorted_data)"
   ]
  },
  {
   "cell_type": "code",
   "execution_count": 8,
   "id": "4b58f493-028a-4c57-82be-b272a1868ef7",
   "metadata": {},
   "outputs": [
    {
     "name": "stdout",
     "output_type": "stream",
     "text": [
      "[32.0, 68.0, 98.6, 212.0]\n"
     ]
    }
   ],
   "source": [
    "# Q9. Write a Python program that uses `map()` to convert a list of temperatures from Celsius to Fahrenheit.\n",
    "\n",
    "\n",
    "def celsius_to_fahrenheit(celsius):\n",
    "    return celsius * 9/5 + 32\n",
    "celsius_temps = [0, 20, 37, 100]\n",
    "fahrenheit_temps = list(map(celsius_to_fahrenheit, celsius_temps))\n",
    "print(fahrenheit_temps)"
   ]
  },
  {
   "cell_type": "code",
   "execution_count": 9,
   "id": "8f413db5-58a5-4c04-b3de-13a84015a134",
   "metadata": {},
   "outputs": [
    {
     "name": "stdout",
     "output_type": "stream",
     "text": [
      "Hll, Wrld!\n"
     ]
    }
   ],
   "source": [
    "# Q10. Create a Python program that uses `filter()` to remove all the vowels from a given string.\n",
    "\n",
    "\n",
    "def is_not_vowel(char):\n",
    "    return char.lower() not in 'aeiou'\n",
    "input_string = \"Hello, World!\"\n",
    "filtered_characters = filter(is_not_vowel, input_string)\n",
    "result_string = ''.join(filtered_characters)\n",
    "print(result_string)"
   ]
  },
  {
   "cell_type": "code",
   "execution_count": 14,
   "id": "a4a7b2a3-20d7-464e-a5d8-b8dbf96da819",
   "metadata": {},
   "outputs": [
    {
     "name": "stdout",
     "output_type": "stream",
     "text": [
      "[(34587, 163.8), (98762, 284.0), (77226, 108.85000000000001), (88112, 84.97)]\n"
     ]
    }
   ],
   "source": [
    "# Q11. Imagine an accounting routine used in a book shop. It works on a list with sublists, which look like this:\n",
    "# Write a Python program, which returns a list with 2-tuples. Each tuple consists of the order number and the product of the price per item and the quantity. The product should be increased by 10,- € if the value of the order is smaller than 100,00 €.\n",
    "# Write a Python program using lambda and map.\n",
    "\n",
    "\n",
    "orders = [ \n",
    "    (34587, 40.95, 4),\n",
    "    (98762, 56.80, 5),\n",
    "    (77226, 32.95, 3),\n",
    "    (88112, 24.99, 3)\n",
    "]\n",
    "def calculate_total(order):\n",
    "    order_number, price_per_item, quantity = order\n",
    "    total_price = price_per_item * quantity\n",
    "    if total_price < 100:\n",
    "        total_price += 10\n",
    "    return (order_number, total_price)\n",
    "result = list(map(lambda order: calculate_total(order),orders))\n",
    "print(result)"
   ]
  }
 ],
 "metadata": {
  "kernelspec": {
   "display_name": "Python 3 (ipykernel)",
   "language": "python",
   "name": "python3"
  },
  "language_info": {
   "codemirror_mode": {
    "name": "ipython",
    "version": 3
   },
   "file_extension": ".py",
   "mimetype": "text/x-python",
   "name": "python",
   "nbconvert_exporter": "python",
   "pygments_lexer": "ipython3",
   "version": "3.10.8"
  }
 },
 "nbformat": 4,
 "nbformat_minor": 5
}
